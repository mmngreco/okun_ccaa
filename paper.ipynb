{
 "cells": [
  {
   "cell_type": "markdown",
   "metadata": {},
   "source": [
    "# INFORMACIÓN:\n",
    "\n",
    "- __AUTOR:__ Maximiliano Greco y Miguel Puente Ajovín\n",
    "- __FECHA:__ Agosto-2015\n",
    "- __PYTHON:__ 3.k"
   ]
  },
  {
   "cell_type": "markdown",
   "metadata": {},
   "source": [
    "# INDICE:\n",
    "\n",
    "- INTRODUCCIÓN\n",
    "\n",
    "- METODOLOGÍA\n",
    "\n",
    "- RESULTADOS\n",
    "\n",
    "- CONCLUSIONES\n",
    "\n",
    "- [DATOS](#DATOS)\n",
    "\n",
    "- [CORRELACIÓN:](#CORRELACIÓN:)\n",
    "\n",
    "- [OUTLIERS:](#OUTLIERS:)\n",
    "\n",
    "- [FILTROS](#FILTROS:)\n",
    "    - [HP](#FILTRO-HP)\n",
    "        - [MCO HP-FILTER:](#MCO-HP-FILTER:)\n",
    "    - [QT:](#FILTRO-QT:)\n",
    "\n",
    "- [EVOLUCIÓN:](#EVOLUCIÓN:)\n",
    "\n",
    "- [APÉNDICE:](#Apéndice:)\n",
    "    - [Markdown Doc](#Markdown-Sintaxis:)\n",
    "    - [Python Doc](#Python)\n"
   ]
  },
  {
   "cell_type": "markdown",
   "metadata": {},
   "source": [
    "# INTRODUCCIÓN"
   ]
  },
  {
   "cell_type": "markdown",
   "metadata": {},
   "source": [
    "## IMÁGENES:\n",
    "\n",
    "### PRINCIPALES RESULTADOS:\n",
    "\n",
    "![Correlacion de los indices encadenados][1]\n",
    "![Disperción y Relacion Paro PIB Filtro HP](imgs/\n",
    "dispersion_paro_HPtrend.png)\n",
    "![Evolución del umbral](imgs/evolucion_b0_todas.png)\n",
    "\n",
    "[1]: imgs/corr_ÍNDICES_ENCADENADOS.png ('Correlación Indices Encadenados y Tasa de Paro')"
   ]
  },
  {
   "cell_type": "markdown",
   "metadata": {},
   "source": [
    "# METODOLOGÍA"
   ]
  },
  {
   "cell_type": "markdown",
   "metadata": {},
   "source": [
    "# RESULTADOS"
   ]
  },
  {
   "cell_type": "markdown",
   "metadata": {},
   "source": [
    "# CONCLUSIONES"
   ]
  },
  {
   "cell_type": "markdown",
   "metadata": {},
   "source": []
  },
  {
   "cell_type": "markdown",
   "metadata": {},
   "source": []
  },
  {
   "cell_type": "markdown",
   "metadata": {},
   "source": []
  },
  {
   "cell_type": "markdown",
   "metadata": {},
   "source": []
  },
  {
   "cell_type": "markdown",
   "metadata": {},
   "source": []
  },
  {
   "cell_type": "markdown",
   "metadata": {},
   "source": []
  },
  {
   "cell_type": "markdown",
   "metadata": {},
   "source": []
  },
  {
   "cell_type": "markdown",
   "metadata": {},
   "source": []
  },
  {
   "cell_type": "markdown",
   "metadata": {},
   "source": []
  },
  {
   "cell_type": "markdown",
   "metadata": {},
   "source": []
  },
  {
   "cell_type": "markdown",
   "metadata": {},
   "source": []
  },
  {
   "cell_type": "markdown",
   "metadata": {},
   "source": []
  },
  {
   "cell_type": "markdown",
   "metadata": {},
   "source": []
  },
  {
   "cell_type": "markdown",
   "metadata": {},
   "source": []
  },
  {
   "cell_type": "markdown",
   "metadata": {
    "collapsed": false
   },
   "source": [
    "# Ley de Okun\n",
    "\n",
    "La ley de Okun es una observación empírica que señala la correlación existente entre los cambios en la tasa de desempleo y el crecimiento de una economía. Fue propuesta en 1962 por el economista norteamericano Arthur Okun en el artículo [\"Potential GNP: Its Measurement and Significance\"][link_gnp][1]\n",
    "\n",
    "Okun señaló que para __mantener__ los niveles de empleo, una economía necesitaba crecer cada año entre el 2,6% y el 3%. Cualquier crecimiento inferior significaba un incremento del desempleo debido a la __mejora de la productividad__. La ley de Okun señala además, que una vez mantenido el nivel de empleo gracias al crecimiento del 3%, para conseguir __disminuir el desempleo__ es necesario crecer dos puntos porcentuales por cada punto de desempleo que se quiera reducir.2\n",
    "\n",
    "Esta \"ley\", es solo una observación empírica, ya que no es posible demostrarla. Okun se basó en datos de los años 1950 en Estados Unidos, y además avisó que esta teoría __sólo es efectiva__ cuando __la tasa de desempleo__ está entre el 3 y 7,5 %. A pesar de eso, la regla se ha cumplido aproximadamente en la mayoría de casos, y por eso es considerada como una observación muy fiable en macroeconomía. El porcentaje exacto depende del período y país considerados, aunque lo normal es que esté alrededor del 2,5 % (entre 2 y 3).\n",
    "\n",
    "## Formulación matemática de la observación de Okun\n",
    "\n",
    "La ley de Okun puede ser expresada en la siguiente forma:\n",
    "\n",
    "## $$\\frac{(\\overline{Y}-Y)}{\\overline{Y}} = c(u-\\overline{u}), $$\n",
    "\n",
    "donde:\n",
    "- $\\overline{Y}$ es la PIB de pleno empleo o producción potencial\n",
    "- Y es el PIB actual\n",
    "- $\\overline{u}$ es la tasa natural de desempleo\n",
    "- $u$ es la tasa actual de desempleo\n",
    "- $c$ es el factor que relaciona los cambios en el desempleo con los cambios en la producción.\n",
    "\n",
    "La ley de Okun tal como se ha mostrado antes es difícil de usar en la práctica porque $\\overline{Y}$ y $\\overline{u}$ pueden ser __solo estimados__. Una forma más corriente de expresar la ley, expresada en forma de tasa de crecimiento de la ley de Okun, relaciona los cambios en la producción con los cambios en el desempleo:\n",
    "\n",
    "## $$\\frac{\\Delta Y}{Y} = k - c \\Delta u$$\n",
    "\n",
    "donde:\n",
    "- $Y$ y $c$ tal como se definieron anteriormente\n",
    "- $\\Delta Y$ es el cambio en la producción actual desde un año al siguiente\n",
    "- $\\Delta u$ es el cambio en el desempleo actual desde un año al siguiente\n",
    "- $k$ es el porcentaje anual de __crecimiento__ de la producción de __pleno empleo__.\n",
    "\n",
    "[link_gnp]:https://es.scribd.com/doc/38215738/Okun-A-M-Potential-GNP-Its-Measurment-and-Significance-1962\n",
    "[]()\n",
    "[1]: Okun, Arthur M. \"Potential GNP: its measurement and significance.\" Proceedings of the business and economic statistics section of the American Statistical Association. Vol. 7. 1962."
   ]
  },
  {
   "cell_type": "markdown",
   "metadata": {},
   "source": [
    "# DATOS\n",
    "\n",
    "Importar Datos\n",
    "Explorar Variables\n",
    "- Regiones\n",
    "- Variables: PIB, Tasa de Paro, Empleo"
   ]
  },
  {
   "cell_type": "markdown",
   "metadata": {},
   "source": [
    "## Número de Regiones y Variables: \n",
    "\n",
    "- __Regiones:__\n",
    "    - CCAA (Excepto Ceuta y Melilla)\n",
    "    - España\n",
    "- __Variables:__\n",
    "    - En Diferencias:\n",
    "        - Tasa de Paro: du\n",
    "    - En tasa de crecimiento interanual:\n",
    "        - Empleo: dl\n",
    "        - PIB: dy\n",
    "    "
   ]
  },
  {
   "cell_type": "markdown",
   "metadata": {},
   "source": [
    "[🏠INDICE: ](#INDICE:)"
   ]
  },
  {
   "cell_type": "markdown",
   "metadata": {},
   "source": [
    "# CORRELACIÓN:\n",
    "\n",
    "[Este análisis](#CORRELACIÓN:) nos dará una idea de como son, según los datos, las relaciones entre ambas variables, y su intensidad. En teoría, esperamos que la correlación entre la tasa de paro y el PIB sea __negativa__, es decir, cuanto más aumente PIB, el efecto esperado sobre la tasa de paro es que disminuya.\n",
    "\n",
    "Veamos que sucede:"
   ]
  },
  {
   "cell_type": "markdown",
   "metadata": {},
   "source": [
    "# MODELO MCO: \n",
    "\n",
    "## TASA PARO:\n",
    "\n",
    "### MODELO A ESTIMAR:\n",
    "### $$ (y - y^*) = \\beta_0 + \\beta_1(u - u^*) $$\n",
    "\n",
    "donde:\n",
    "\n",
    "- __$y$__ = Tasa de crecimiento interanual.\n",
    "- __$y^*$__ = Tasa de crecimiento natural.\n",
    "- __$u$__ = Tasa de paro.\n",
    "- __$u^*$__ = Tasa de paro natual.\n",
    "- __$\\beta_0$__ = Término Independiente.\n",
    "- __$\\beta_1$__ = Efecto de $(u-u^*)$ sobre $(y-y^*)$.\n",
    "\n",
    "\n",
    "## UMBRAL DE CRECIMIENTO:\n",
    "\n",
    "- PARO\n",
    "- EMPLEO\n",
    "\n",
    "El umbral de crecimiento de una economía, es la interpretación más util que nos dá el modelo de Okun. Nos dice cuanto tiene que crecer la economía para comenzar a crear empleo o reducir la tasa de paro.\n",
    "\n",
    "__Se obtiene a partir del modelo de Okun:__\n",
    "\n",
    "### $$ (y - y^*) = \\beta_0 + \\beta_1(u - u^*) $$\n",
    "\n",
    "Tal y como está enunciado, el umbral de crecimiento lo obtenemos cuando $(u - u^*) = 0$, por tanto:\n",
    "\n",
    "$$ (y - y^*) = \\beta_0 + \\beta_1(u - u^*) $$\n",
    "\n",
    "$$ (y - y^*) = \\beta_0 $$\n",
    "\n",
    "\n"
   ]
  },
  {
   "cell_type": "markdown",
   "metadata": {},
   "source": [
    "[🏠INDICE: ](#INDICE:)"
   ]
  },
  {
   "cell_type": "markdown",
   "metadata": {},
   "source": [
    "# SERIES ESTACIONARIAS:\n",
    "---\n",
    "## MODELO:\n",
    "\n",
    "## $$ (y - y^*) = \\beta_0 + \\beta_1(u - u^*) $$\n",
    "\n",
    "donde:\n",
    "\n",
    "- __$y$__ = Tasa de crecimiento interanual.\n",
    "- __$y^*$__ = Tasa de crecimiento natural.\n",
    "- __$u$__ = Tasa de paro.\n",
    "- __$u^*$__ = Tasa de paro natual.\n",
    "- __$\\beta_0$__ = Término Independiente.\n",
    "- __$\\beta_1$__ = Efecto de $(u-u^*)$ sobre $(y-y^*)$.\n",
    "\n",
    "\n",
    "- [DATOS](#SERIES-FILTRADAS:)"
   ]
  },
  {
   "cell_type": "markdown",
   "metadata": {},
   "source": [
    "[🏠INDICE: ](#INDICE:)"
   ]
  },
  {
   "cell_type": "markdown",
   "metadata": {},
   "source": [
    "## CONTRASTE DE RAÍZ UNITARIA: \n",
    "\n",
    "- __$H_0$__: Tiene raíz unitaria, \n",
    "- __$H_1$__: No tiene raíz unitaria"
   ]
  },
  {
   "cell_type": "markdown",
   "metadata": {},
   "source": [
    "## FILTRO HP"
   ]
  },
  {
   "cell_type": "markdown",
   "metadata": {},
   "source": [
    "## MCO HP-FILTER:"
   ]
  },
  {
   "cell_type": "markdown",
   "metadata": {},
   "source": [
    "# FILTRO QT:"
   ]
  },
  {
   "cell_type": "markdown",
   "metadata": {},
   "source": [
    "[🏠INDICE: ](#INDICE:)"
   ]
  },
  {
   "cell_type": "markdown",
   "metadata": {},
   "source": [
    "# EVOLUCIÓN:"
   ]
  },
  {
   "cell_type": "markdown",
   "metadata": {},
   "source": [
    "[🏠INDICE: ](#INDICE:)"
   ]
  },
  {
   "cell_type": "markdown",
   "metadata": {
    "collapsed": true
   },
   "source": [
    "# BIBLIOGRAFÍA:\n",
    "\n",
    "- [Estadisticas Robustas](link1)\n",
    "- [Correlación de Pearson](https://en.wikipedia.org/wiki/Pearson_product-moment_correlation_coefficient)\n",
    "- [Ley de Okun](https://es.wikipedia.org/wiki/Ley_de_Okun)\n",
    "- [Okun's Law](https://en.wikipedia.org/wiki/Okun%27s_law)\n",
    "- [How useful is Okun's Law](https://www.kansascityfed.org/publicat/econrev/pdf/4q07knotek.pdf)\n",
    "- [Interpreting Deviations from Okun’s Law](http://www.frbsf.org/economic-research/publications/economic-letter/2014/april/okun-law-deviation-unemployment-recession/)\n",
    "- [Do Forecasters Believe in Okun’s Law? An Assessment of Unemployment and Output Forecasts](https://www.imf.org/external/pubs/ft/wp/2014/wp1424.pdf)\n",
    "- [Criterio de Outliers](https://es.wikipedia.org/wiki/Valor_at%C3%ADpico)\n",
    "\n",
    "\n",
    "[link1]:https://en.wikipedia.org/wiki/Robust_statistics#Definition\n",
    "\n",
    "# TEORÍA\n",
    "\n",
    "- [Ley de Okun](https://es.wikipedia.org/wiki/Ley_de_Okun)\n",
    "- [Okun's Law](https://en.wikipedia.org/wiki/Okun%27s_law)\n",
    "- [How useful is Okun's Law](https://www.kansascityfed.org/publicat/econrev/pdf/4q07knotek.pdf)\n",
    "- [Interpreting Deviations from Okun’s Law](http://www.frbsf.org/economic-research/publications/economic-letter/2014/april/okun-law-deviation-unemployment-recession/)\n",
    "- [Do Forecasters Believe in Okun’s Law? An Assessment of Unemployment and Output Forecasts](https://www.imf.org/external/pubs/ft/wp/2014/wp1424.pdf)\n"
   ]
  },
  {
   "cell_type": "markdown",
   "metadata": {
    "collapsed": true
   },
   "source": [
    "# Apéndice:"
   ]
  },
  {
   "cell_type": "markdown",
   "metadata": {},
   "source": [
    "# Markdown Sintaxis:\n",
    "\n",
    "- [Footnote](http://rephrase.net/box/word/footnotes/syntax/)\n",
    "- [Sintaxis, guía](http://daringfireball.net/projects/markdown/syntax#link)\n",
    "\n",
    "![](http://cdn.churchm.ag/wp-content/uploads/2014/01/markdown-cheatsheet.png)"
   ]
  },
  {
   "cell_type": "markdown",
   "metadata": {},
   "source": [
    "[🏠INDICE: ](#INDICE:)"
   ]
  },
  {
   "cell_type": "markdown",
   "metadata": {},
   "source": [
    "# REGRESIÓN:\n",
    "\n",
    "Método de estimación:\n",
    "- MCO\n",
    "\n",
    "## Statsmodels:\n",
    "- [Get Started](http://statsmodels.sourceforge.net/devel/gettingstarted.html)\n",
    "- [Regression](http://statsmodels.sourceforge.net/devel/regression.html)\n",
    "- [QT-filter](http://statsmodels.sourceforge.net/devel/generated/statsmodels.tsa.tsatools.detrend.html?highlight=trend#statsmodels.tsa.tsatools.detrend)\n",
    "- [HP-filter](http://statsmodels.sourceforge.net/devel/examples/notebooks/generated/tsa_filters.html?highlight=trend)\n",
    "\n",
    "## Linear Regresion\n",
    "- Linear Regression: [link](http://connor-johnson.com/2014/02/18/linear-regression-with-python/)\n",
    "- HP filter: [link](http://link.springer.com/article/10.1007%2FBF01205950)\n",
    "- Patsy Formula: [link](https://patsy.readthedocs.org/en/latest/formulas.html)"
   ]
  },
  {
   "cell_type": "markdown",
   "metadata": {},
   "source": [
    "# CORRELACIÓN:\n",
    "\n",
    "## __Coeficiente de correlación de Pearson __:\n",
    "_[Wikipedia, la enciclopedia libre](https://es.wikipedia.org/wiki/Correlaci%C3%B3n)_\n",
    "\n",
    "En estadística, el coeficiente de correlación de Pearson es una medida de la relación lineal entre dos variables aleatorias cuantitativas. A diferencia de la covarianza, la correlación de Pearson es independiente de la escala de medida de las variables.\n",
    "\n",
    "De manera menos formal, podemos definir el coeficiente de correlación de Pearson como un índice que puede utilizarse para medir el grado de relación de dos variables siempre y cuando ambas sean cuantitativas.\n",
    "\n",
    "\n",
    "El coeficiente de correlación de Pearson se simboliza con la letra $\\rho_{x,y}$, siendo la expresión que nos permite calcularlo:\n",
    "\n",
    "## $$\\rho_{X,Y}={\\sigma_{XY} \\over \\sigma_X \\sigma_Y} ={E[(X-\\mu_X)(Y-\\mu_Y)] \\over \\sigma_X\\sigma_Y}$$\n",
    "\n",
    "Donde:\n",
    "\n",
    "- $\\sigma_{XY}$ es la covarianza de (X,Y)\n",
    "- $\\sigma_{X}$ es la desviación típica de la variable X\n",
    "- $\\sigma_{Y}$ es la desviación típica de la variable Y\n",
    "\n",
    "## Para una muestra:\n",
    "\n",
    "## $$r = r_{xy} =\\frac{\\sum ^n _{i=1}(x_i - \\bar{x})(y_i - \\bar{y})}{\\sqrt{\\sum ^n _{i=1}(x_i - \\bar{x})^2} \\sqrt{\\sum ^n _{i=1}(y_i - \\bar{y})^2}}$$\n",
    "\n",
    "\n",
    "## EJEMPLOS DE CORRELACIONES\n",
    "\n",
    "![corr2_img](https://upload.wikimedia.org/wikipedia/commons/thumb/d/d4/Correlation_examples2.svg/506px-Correlation_examples2.svg.png)"
   ]
  },
  {
   "cell_type": "markdown",
   "metadata": {},
   "source": [
    "# Test de Jarque-Bera\n",
    "\n",
    "En estadística, el test de Jarque-Bera es una prueba de bondad de ajuste acerca de si una muestra de datos tiene la asimetría y la curtosis de una distribución normal. El test recibe el nombre de Carlos Jarque y Anil K. Bera.\n",
    "\n",
    "El test estadístico JB se define como:\n",
    "\n",
    "\n",
    "$$JB = \\frac{n-k+1}{6} \\left( S^2 + \\frac14 (C-3)^2 \\right)$$\n",
    "  \n",
    "donde n es el número de observaciones (o grados de libertad en general); S es la asimetría de la muestra, C la curtosis de la muestra y k el número de regresores:\n",
    "\n",
    "\n",
    "$S = \\frac{ \\hat{\\mu}_3 }{ \\hat{\\sigma}^3 }$\n",
    "$= \\frac{\\frac1n \\sum_{i=1}^n (x_i-\\bar{x})^3} {\\left(\\frac1n \\sum_{i=1}^n (x_i-\\bar{x})^2 \\right)^{3/2}}$\n",
    "\n",
    "$ C = \\frac{ \\hat{\\mu}_4 }{ \\hat{\\sigma}^4 }$\n",
    "$    = \\frac{\\frac1n \\sum_{i=1}^n (x_i-\\bar{x})^4} {\\left(\\frac1n \\sum_{i=1}^n (x_i-\\bar{x})^2 \\right)^{2}} $\n",
    "\n",
    "donde $\\hat{\\mu}_3$ y $\\hat{\\mu}_4$ son las estimaciones de los momentos centrales tercer y cuarto, respectivamente, $\\bar{x}$ es la media de la muestra y $\\hat{\\sigma}^2$ es la estimación del segundo momento central, la varianza.\n",
    "\n",
    "El estadístico de Jarque-Bera se distribuye asintóticamente como una distribución __chi cuadrado con dos grados de libertad__ y puede usarse para probar la __hipótesis nula__ de que los datos pertenecen a una distribución normal. La hipótesis nula es una __hipótesis conjunta__ de que la asimetría y la curtosis son nulas.\n",
    "\n"
   ]
  },
  {
   "cell_type": "markdown",
   "metadata": {},
   "source": [
    "# Test de Breusch-Pagan\n",
    "\n",
    "En estadística, el test de Breusch-Pagan se utiliza para determinar la heterocedasticidad en un modelo de regresión lineal. Analiza si la varianza estimada de los residuos de una regresión dependen de los valores de las variables independientes.\n",
    "\n",
    "Supongamos que estimamos el siguiente modelo:\n",
    "\n",
    "\n",
    "$y = \\beta_0 + \\beta_1 x + u$\n",
    "\n",
    "y obtenemos un conjunto de valores para $\\hat{u}$, los residuos. Con las restricciones de los Mínimos Cuadrados Ordinarios la media es 0, de modo que dada la suposición de que la varianza no depende de las variables independientes, la estimación de la varianza se puede obtener a partir de la media de los valores al cuadrado. Si la suposición no fuera correcta, podría ocurrir que la varianza estuviera relacionada linealmente con las variables independientes. Ese modelo se puede examinar haciendo una regresión de los residuos al cuadrado respecto de las variables independientes, empleando una ecuación de la forma:\n",
    "\n",
    "\n",
    "$\\hat{u}^2 = \\gamma_0 + \\gamma_1 x + v$\n",
    "\n",
    "Esta es la base del test. Si el test-F confirma que las variables independientes son significativas, entonces se puede rechazar la __hipótesis nula__ de homocedasticidad."
   ]
  },
  {
   "cell_type": "markdown",
   "metadata": {},
   "source": [
    "# Estadístico de Durbin-Watson\n",
    "\n",
    "En estadística, el estadístico de Durbin-Watson, desarrollado por el reputado economista Watson, es una estadística de prueba que se utiliza para detectar la presencia de autocorrelación (una relación entre los valores separados el uno del otro por un intervalo de tiempo dado) en los residuos (errores de predicción) de un análisis de la regresión. Lleva el nombre de James Durbin y Geoffrey Watson. La pequeña muestra de la distribución de esta relación se deriva de John von Neumann (von Neumann, 1941). Durbin y Watson (1950, 1951) aplicaron esta estadística para los residuales de mínimos cuadrados, y desarrollaron pruebas para la hipótesis nula de que los errores están correlacionados en serie frente a la alternativa de que siguen un proceso de primer orden autorregresivo. Más tarde, John Denis Sargan y Alok Bhargava desarrollaron varias pruebas estadísticas del tipo Neumann-Durbin-Watson von para la hipótesis nula de que los errores en un modelo de regresión siguen un proceso con una raíz unitaria contra la hipótesis alternativa de que los errores siguen un proceso estacionario de primer orden autorregresivo (Sargan y Bhargava, 1983).\n",
    "\n",
    "## Cálculo e interpretación del estadístico de Durbin-Watson\n",
    "\n",
    "Si et es el residual asociado a la observación en el tiempo t, entonces la prueba estadística es:\n",
    "\n",
    "$d = {\\sum_{t=2}^T (e_t - e_{t-1})^2 \\over {\\sum_{t=1}^T e_t^2}}$\n",
    "\n",
    "Donde T es el número de observaciones. Puesto que d es aproximadamente igual a 2(1 − r), donde r es la autocorrelación de la muestra de los residuos,1 d = 2 indica que no hay autocorrelación. El valor de d siempre está entre -1 y 1,5. Si la estadística de Durbin-Watson es sustancialmente menor que 0,5, hay evidencia de correlación serial positiva. Como regla general, si Durbin-Watson es inferior a 1,0 aunque lo óptimos es que sea menor que 0, puede ser causa de alarma. Los valores pequeños de d indican los términos de error sucesivos son, en promedio, cerca del valor de los otros, o correlacionados positivamente. Si d> 2, los términos de error sucesivas son, en promedio, muy diferente en valor el uno del otro, es decir, correlacionada negativamente. En las regresiones, esto puede implicar una subestimación del nivel de significación estadística.\n",
    "\n",
    "Para probar la __autocorrelación positiva__ en importancia α, la estadística de prueba d se compara con los valores críticos inferiores y superiores (dL,α and dU,α):\n",
    "\n",
    "- Si d < dL,α, existe evidencia estadística de que los términos de error se autocorrelacionados positivamente.\n",
    "- Si d > dU,α, no hay evidencia estadística de que los términos de error se autocorrelacionados positivamente.\n",
    "- Si dL,α < d < dU,α, la prueba no es concluyente.\n",
    "\n",
    "Correlación serial positiva es la correlación en serie en la que un error positivo para una observación aumenta las posibilidades de un error positivo para otra observación.\n",
    "\n",
    "Para probar la autocorrelación negativa en significación α, la estadística de prueba (4 - d) se compara a bajar y los valores críticos de nivel superior (dL,α and dU,α):\n",
    "\n",
    "- Si (4 − d) < dL,α, existe evidencia estadística de que los términos de error se autocorrelacionados negativamente.\n",
    "- Si (4 − d) > dU,α, no hay evidencia estadística de que los términos de error se autocorrelacionados negativamente.\n",
    "- Si dL,α < (4 − d) < dU,α, la prueba no es concluyente.\n",
    "\n",
    "Correlación serial negativa implica que un error positivo para una observación aumenta la probabilidad de un error negativo para otra observación y un error negativo para uno aumenta las posibilidades de un error positivo para otra observación.\n",
    "\n",
    "Los valores críticos, dL,α y dU,α, variar según el nivel de significación (α), el número de observaciones, y el número de predictores en la ecuación de regresión. Su derivación es compleja-los estadísticos suelen obtener a partir de los apéndices de textos estadísticos."
   ]
  },
  {
   "cell_type": "markdown",
   "metadata": {},
   "source": [
    "# Python"
   ]
  },
  {
   "cell_type": "markdown",
   "metadata": {},
   "source": [
    "- [Format method DOC](https://mkaz.com/2012/10/10/python-string-format/)"
   ]
  },
  {
   "cell_type": "markdown",
   "metadata": {},
   "source": [
    "[🏠INDICE: ](#INDICE:)"
   ]
  }
 ],
 "metadata": {
  "kernelspec": {
   "display_name": "Python 3",
   "language": "python",
   "name": "python3"
  },
  "language_info": {
   "codemirror_mode": {
    "name": "ipython",
    "version": 3
   },
   "file_extension": ".py",
   "mimetype": "text/x-python",
   "name": "python",
   "nbconvert_exporter": "python",
   "pygments_lexer": "ipython3",
   "version": "3.4.3"
  }
 },
 "nbformat": 4,
 "nbformat_minor": 0
}
