{
 "cells": [
  {
   "cell_type": "code",
   "execution_count": 123,
   "metadata": {
    "collapsed": false
   },
   "outputs": [],
   "source": [
    "import pandas as pd\n",
    "from numpy import *\n",
    "from tabulate import tabulate\n",
    "import sys\n",
    "import os"
   ]
  },
  {
   "cell_type": "code",
   "execution_count": 261,
   "metadata": {
    "collapsed": true
   },
   "outputs": [],
   "source": [
    "ls = !ls"
   ]
  },
  {
   "cell_type": "code",
   "execution_count": 87,
   "metadata": {
    "collapsed": false
   },
   "outputs": [
    {
     "name": "stdout",
     "output_type": "stream",
     "text": [
      "Collecting tabulate\n",
      "  Downloading tabulate-0.7.5.tar.gz\n",
      "Installing collected packages: tabulate\n",
      "  Running setup.py install for tabulate\n",
      "Successfully installed tabulate-0.7.5\n"
     ]
    }
   ],
   "source": [
    "!pip install tabulate"
   ]
  },
  {
   "cell_type": "code",
   "execution_count": 53,
   "metadata": {
    "collapsed": false
   },
   "outputs": [
    {
     "name": "stdout",
     "output_type": "stream",
     "text": [
      "0 L_1976-2004.csv\n",
      "1 L_2002-2015.csv\n",
      "2 PIB_1980-955.csv\n",
      "3 PIB_1995-2004.csv\n",
      "4 PIB_1995-2010.xls\n",
      "5 PIB_2000-2014.csv\n",
      "6 TU_1976-2004.xls\n",
      "7 TU_2005-2013.csv\n",
      "8 U_1976-2004.xls\n",
      "9 U_2005-2013.csv\n",
      "10 U_2008-2015.csv\n",
      "11 clean_data.ipynb\n",
      "12 py_L_1976-2004.csv\n"
     ]
    }
   ],
   "source": [
    "for i, e in enumerate(ls):\n",
    "    print i, e\n"
   ]
  },
  {
   "cell_type": "code",
   "execution_count": 55,
   "metadata": {
    "collapsed": false
   },
   "outputs": [
    {
     "data": {
      "text/plain": [
       "'clean_data.ipynb'"
      ]
     },
     "execution_count": 55,
     "metadata": {},
     "output_type": "execute_result"
    }
   ],
   "source": [
    "ls.pop(-1)"
   ]
  },
  {
   "cell_type": "code",
   "execution_count": 253,
   "metadata": {
    "collapsed": false
   },
   "outputs": [
    {
     "data": {
      "text/plain": [
       "'U_2008-2015.csv'"
      ]
     },
     "execution_count": 253,
     "metadata": {},
     "output_type": "execute_result"
    }
   ],
   "source": [
    "tabla = ls[10]\n",
    "tabla"
   ]
  },
  {
   "cell_type": "code",
   "execution_count": 255,
   "metadata": {
    "collapsed": true
   },
   "outputs": [],
   "source": [
    "!subl3 ."
   ]
  },
  {
   "cell_type": "code",
   "execution_count": 256,
   "metadata": {
    "collapsed": false
   },
   "outputs": [
    {
     "data": {
      "text/html": [
       "<div>\n",
       "<table border=\"1\" class=\"dataframe\">\n",
       "  <thead>\n",
       "    <tr style=\"text-align: right;\">\n",
       "      <th></th>\n",
       "      <th>Nacional</th>\n",
       "      <th>Andalucía</th>\n",
       "      <th>Aragón</th>\n",
       "      <th>Asturias, Principado de</th>\n",
       "      <th>Balears, Illes</th>\n",
       "      <th>Canarias</th>\n",
       "      <th>Cantabria</th>\n",
       "      <th>Castilla y León</th>\n",
       "      <th>Castilla - La Mancha</th>\n",
       "      <th>Cataluña</th>\n",
       "      <th>...</th>\n",
       "      <th>Galicia</th>\n",
       "      <th>Madrid, Comunidad de</th>\n",
       "      <th>Murcia, Región de</th>\n",
       "      <th>Navarra, Comunidad Foral de</th>\n",
       "      <th>País Vasco</th>\n",
       "      <th>Rioja, La</th>\n",
       "      <th>Ceuta</th>\n",
       "      <th>Melilla</th>\n",
       "      <th>Total</th>\n",
       "      <th>Unnamed: 21</th>\n",
       "    </tr>\n",
       "  </thead>\n",
       "  <tbody>\n",
       "    <tr>\n",
       "      <th>0</th>\n",
       "      <td>2008T1</td>\n",
       "      <td>NaN</td>\n",
       "      <td>NaN</td>\n",
       "      <td>NaN</td>\n",
       "      <td>NaN</td>\n",
       "      <td>NaN</td>\n",
       "      <td>NaN</td>\n",
       "      <td>NaN</td>\n",
       "      <td>NaN</td>\n",
       "      <td>NaN</td>\n",
       "      <td>...</td>\n",
       "      <td>NaN</td>\n",
       "      <td>NaN</td>\n",
       "      <td>NaN</td>\n",
       "      <td>NaN</td>\n",
       "      <td>NaN</td>\n",
       "      <td>NaN</td>\n",
       "      <td>NaN</td>\n",
       "      <td>NaN</td>\n",
       "      <td>NaN</td>\n",
       "      <td>NaN</td>\n",
       "    </tr>\n",
       "    <tr>\n",
       "      <th>1</th>\n",
       "      <td>2.190,5</td>\n",
       "      <td>561,7</td>\n",
       "      <td>40,7</td>\n",
       "      <td>42,0</td>\n",
       "      <td>60,0</td>\n",
       "      <td>147,2</td>\n",
       "      <td>18,2</td>\n",
       "      <td>97,3</td>\n",
       "      <td>92,1</td>\n",
       "      <td>293,4</td>\n",
       "      <td>...</td>\n",
       "      <td>108,3</td>\n",
       "      <td>249,5</td>\n",
       "      <td>66,5</td>\n",
       "      <td>19,5</td>\n",
       "      <td>61,9</td>\n",
       "      <td>10,6</td>\n",
       "      <td>5,3</td>\n",
       "      <td>6,9</td>\n",
       "      <td>2008T2</td>\n",
       "      <td>NaN</td>\n",
       "    </tr>\n",
       "    <tr>\n",
       "      <th>2</th>\n",
       "      <td>2.385,7</td>\n",
       "      <td>616,1</td>\n",
       "      <td>46,9</td>\n",
       "      <td>39,1</td>\n",
       "      <td>48,5</td>\n",
       "      <td>161,1</td>\n",
       "      <td>20,2</td>\n",
       "      <td>110,7</td>\n",
       "      <td>103,9</td>\n",
       "      <td>293,8</td>\n",
       "      <td>...</td>\n",
       "      <td>108,1</td>\n",
       "      <td>296,9</td>\n",
       "      <td>81,0</td>\n",
       "      <td>18,3</td>\n",
       "      <td>62,3</td>\n",
       "      <td>11,1</td>\n",
       "      <td>6,4</td>\n",
       "      <td>5,4</td>\n",
       "      <td>2008T3</td>\n",
       "      <td>NaN</td>\n",
       "    </tr>\n",
       "    <tr>\n",
       "      <th>3</th>\n",
       "      <td>2.600,7</td>\n",
       "      <td>701,7</td>\n",
       "      <td>43,3</td>\n",
       "      <td>38,6</td>\n",
       "      <td>55,3</td>\n",
       "      <td>176,6</td>\n",
       "      <td>18,1</td>\n",
       "      <td>113,5</td>\n",
       "      <td>111,3</td>\n",
       "      <td>346,1</td>\n",
       "      <td>...</td>\n",
       "      <td>110,3</td>\n",
       "      <td>286,0</td>\n",
       "      <td>98,4</td>\n",
       "      <td>23,2</td>\n",
       "      <td>70,5</td>\n",
       "      <td>13,4</td>\n",
       "      <td>5,9</td>\n",
       "      <td>7,0</td>\n",
       "      <td>2008T4</td>\n",
       "      <td>NaN</td>\n",
       "    </tr>\n",
       "    <tr>\n",
       "      <th>4</th>\n",
       "      <td>3.206,8</td>\n",
       "      <td>845,6</td>\n",
       "      <td>66,0</td>\n",
       "      <td>49,7</td>\n",
       "      <td>68,6</td>\n",
       "      <td>215,4</td>\n",
       "      <td>25,1</td>\n",
       "      <td>136,1</td>\n",
       "      <td>147,9</td>\n",
       "      <td>465,0</td>\n",
       "      <td>...</td>\n",
       "      <td>127,7</td>\n",
       "      <td>347,7</td>\n",
       "      <td>109,7</td>\n",
       "      <td>25,7</td>\n",
       "      <td>92,0</td>\n",
       "      <td>16,0</td>\n",
       "      <td>5,5</td>\n",
       "      <td>4,5</td>\n",
       "      <td>2009T1</td>\n",
       "      <td>NaN</td>\n",
       "    </tr>\n",
       "  </tbody>\n",
       "</table>\n",
       "<p>5 rows × 22 columns</p>\n",
       "</div>"
      ],
      "text/plain": [
       "  Nacional Andalucía Aragón Asturias, Principado de Balears, Illes Canarias  \\\n",
       "0   2008T1       NaN    NaN                     NaN            NaN      NaN   \n",
       "1  2.190,5     561,7   40,7                    42,0           60,0    147,2   \n",
       "2  2.385,7     616,1   46,9                    39,1           48,5    161,1   \n",
       "3  2.600,7     701,7   43,3                    38,6           55,3    176,6   \n",
       "4  3.206,8     845,6   66,0                    49,7           68,6    215,4   \n",
       "\n",
       "  Cantabria Castilla y León Castilla - La Mancha Cataluña     ...     Galicia  \\\n",
       "0       NaN             NaN                  NaN      NaN     ...         NaN   \n",
       "1      18,2            97,3                 92,1    293,4     ...       108,3   \n",
       "2      20,2           110,7                103,9    293,8     ...       108,1   \n",
       "3      18,1           113,5                111,3    346,1     ...       110,3   \n",
       "4      25,1           136,1                147,9    465,0     ...       127,7   \n",
       "\n",
       "  Madrid, Comunidad de Murcia, Región de Navarra, Comunidad Foral de  \\\n",
       "0                  NaN               NaN                         NaN   \n",
       "1                249,5              66,5                        19,5   \n",
       "2                296,9              81,0                        18,3   \n",
       "3                286,0              98,4                        23,2   \n",
       "4                347,7             109,7                        25,7   \n",
       "\n",
       "  País Vasco Rioja, La Ceuta Melilla   Total Unnamed: 21  \n",
       "0        NaN       NaN   NaN     NaN     NaN         NaN  \n",
       "1       61,9      10,6   5,3     6,9  2008T2         NaN  \n",
       "2       62,3      11,1   6,4     5,4  2008T3         NaN  \n",
       "3       70,5      13,4   5,9     7,0  2008T4         NaN  \n",
       "4       92,0      16,0   5,5     4,5  2009T1         NaN  \n",
       "\n",
       "[5 rows x 22 columns]"
      ]
     },
     "execution_count": 256,
     "metadata": {},
     "output_type": "execute_result"
    }
   ],
   "source": [
    "d = pd.read_table(tabla, sep=';', skiprows=3, skipfooter=0)\n",
    "#d = d.ix[1:,:-1]\n",
    "d.head()"
   ]
  },
  {
   "cell_type": "code",
   "execution_count": 257,
   "metadata": {
    "collapsed": false
   },
   "outputs": [
    {
     "data": {
      "text/html": [
       "<div>\n",
       "<table border=\"1\" class=\"dataframe\">\n",
       "  <thead>\n",
       "    <tr style=\"text-align: right;\">\n",
       "      <th></th>\n",
       "      <th>Nacional</th>\n",
       "      <th>Andalucía</th>\n",
       "      <th>Aragón</th>\n",
       "      <th>Asturias, Principado de</th>\n",
       "      <th>Balears, Illes</th>\n",
       "      <th>Canarias</th>\n",
       "      <th>Cantabria</th>\n",
       "      <th>Castilla y León</th>\n",
       "      <th>Castilla - La Mancha</th>\n",
       "      <th>Cataluña</th>\n",
       "      <th>...</th>\n",
       "      <th>Galicia</th>\n",
       "      <th>Madrid, Comunidad de</th>\n",
       "      <th>Murcia, Región de</th>\n",
       "      <th>Navarra, Comunidad Foral de</th>\n",
       "      <th>País Vasco</th>\n",
       "      <th>Rioja, La</th>\n",
       "      <th>Ceuta</th>\n",
       "      <th>Melilla</th>\n",
       "      <th>Total</th>\n",
       "      <th>Unnamed: 21</th>\n",
       "    </tr>\n",
       "  </thead>\n",
       "  <tbody>\n",
       "    <tr>\n",
       "      <th>26</th>\n",
       "      <td>5.622,9</td>\n",
       "      <td>1.400,3</td>\n",
       "      <td>136,3</td>\n",
       "      <td>99,7</td>\n",
       "      <td>118,0</td>\n",
       "      <td>356,9</td>\n",
       "      <td>53,8</td>\n",
       "      <td>246,6</td>\n",
       "      <td>288,2</td>\n",
       "      <td>770,4</td>\n",
       "      <td>...</td>\n",
       "      <td>284,3</td>\n",
       "      <td>631,8</td>\n",
       "      <td>181,6</td>\n",
       "      <td>49,5</td>\n",
       "      <td>167,5</td>\n",
       "      <td>27,8</td>\n",
       "      <td>11,7</td>\n",
       "      <td>9,9</td>\n",
       "      <td>2014T3</td>\n",
       "      <td>NaN</td>\n",
       "    </tr>\n",
       "    <tr>\n",
       "      <th>27</th>\n",
       "      <td>5.427,7</td>\n",
       "      <td>1.419,1</td>\n",
       "      <td>119,7</td>\n",
       "      <td>95,8</td>\n",
       "      <td>101,0</td>\n",
       "      <td>362,3</td>\n",
       "      <td>54,1</td>\n",
       "      <td>226,0</td>\n",
       "      <td>285,4</td>\n",
       "      <td>726,1</td>\n",
       "      <td>...</td>\n",
       "      <td>258,3</td>\n",
       "      <td>583,6</td>\n",
       "      <td>188,9</td>\n",
       "      <td>46,2</td>\n",
       "      <td>155,0</td>\n",
       "      <td>29,1</td>\n",
       "      <td>12,4</td>\n",
       "      <td>10,2</td>\n",
       "      <td>2014T4</td>\n",
       "      <td>NaN</td>\n",
       "    </tr>\n",
       "    <tr>\n",
       "      <th>28</th>\n",
       "      <td>5.457,7</td>\n",
       "      <td>1.395,7</td>\n",
       "      <td>120,7</td>\n",
       "      <td>98,4</td>\n",
       "      <td>111,4</td>\n",
       "      <td>342,2</td>\n",
       "      <td>51,2</td>\n",
       "      <td>234,3</td>\n",
       "      <td>283,1</td>\n",
       "      <td>756,5</td>\n",
       "      <td>...</td>\n",
       "      <td>263,8</td>\n",
       "      <td>612,3</td>\n",
       "      <td>196,9</td>\n",
       "      <td>46,4</td>\n",
       "      <td>174,1</td>\n",
       "      <td>26,4</td>\n",
       "      <td>12,8</td>\n",
       "      <td>10,1</td>\n",
       "      <td>2015T1</td>\n",
       "      <td>NaN</td>\n",
       "    </tr>\n",
       "    <tr>\n",
       "      <th>29</th>\n",
       "      <td>5.444,6</td>\n",
       "      <td>1.359,1</td>\n",
       "      <td>119,7</td>\n",
       "      <td>87,2</td>\n",
       "      <td>130,7</td>\n",
       "      <td>343,5</td>\n",
       "      <td>51,5</td>\n",
       "      <td>233,7</td>\n",
       "      <td>284,5</td>\n",
       "      <td>758,0</td>\n",
       "      <td>...</td>\n",
       "      <td>275,7</td>\n",
       "      <td>602,8</td>\n",
       "      <td>186,9</td>\n",
       "      <td>47,9</td>\n",
       "      <td>171,2</td>\n",
       "      <td>27,1</td>\n",
       "      <td>11,7</td>\n",
       "      <td>12,7</td>\n",
       "      <td>2015T2</td>\n",
       "      <td>NaN</td>\n",
       "    </tr>\n",
       "    <tr>\n",
       "      <th>30</th>\n",
       "      <td>5.149,0</td>\n",
       "      <td>1.260,5</td>\n",
       "      <td>110,8</td>\n",
       "      <td>93,0</td>\n",
       "      <td>103,5</td>\n",
       "      <td>336,5</td>\n",
       "      <td>50,1</td>\n",
       "      <td>213,1</td>\n",
       "      <td>266,6</td>\n",
       "      <td>726,2</td>\n",
       "      <td>...</td>\n",
       "      <td>252,5</td>\n",
       "      <td>602,5</td>\n",
       "      <td>175,9</td>\n",
       "      <td>38,4</td>\n",
       "      <td>164,4</td>\n",
       "      <td>25,6</td>\n",
       "      <td>8,9</td>\n",
       "      <td>13,0</td>\n",
       "      <td>NaN</td>\n",
       "      <td>NaN</td>\n",
       "    </tr>\n",
       "  </tbody>\n",
       "</table>\n",
       "<p>5 rows × 22 columns</p>\n",
       "</div>"
      ],
      "text/plain": [
       "   Nacional Andalucía Aragón Asturias, Principado de Balears, Illes Canarias  \\\n",
       "26  5.622,9   1.400,3  136,3                    99,7          118,0    356,9   \n",
       "27  5.427,7   1.419,1  119,7                    95,8          101,0    362,3   \n",
       "28  5.457,7   1.395,7  120,7                    98,4          111,4    342,2   \n",
       "29  5.444,6   1.359,1  119,7                    87,2          130,7    343,5   \n",
       "30  5.149,0   1.260,5  110,8                    93,0          103,5    336,5   \n",
       "\n",
       "   Cantabria Castilla y León Castilla - La Mancha Cataluña     ...      \\\n",
       "26      53,8           246,6                288,2    770,4     ...       \n",
       "27      54,1           226,0                285,4    726,1     ...       \n",
       "28      51,2           234,3                283,1    756,5     ...       \n",
       "29      51,5           233,7                284,5    758,0     ...       \n",
       "30      50,1           213,1                266,6    726,2     ...       \n",
       "\n",
       "   Galicia Madrid, Comunidad de Murcia, Región de Navarra, Comunidad Foral de  \\\n",
       "26   284,3                631,8             181,6                        49,5   \n",
       "27   258,3                583,6             188,9                        46,2   \n",
       "28   263,8                612,3             196,9                        46,4   \n",
       "29   275,7                602,8             186,9                        47,9   \n",
       "30   252,5                602,5             175,9                        38,4   \n",
       "\n",
       "   País Vasco Rioja, La Ceuta Melilla   Total Unnamed: 21  \n",
       "26      167,5      27,8  11,7     9,9  2014T3         NaN  \n",
       "27      155,0      29,1  12,4    10,2  2014T4         NaN  \n",
       "28      174,1      26,4  12,8    10,1  2015T1         NaN  \n",
       "29      171,2      27,1  11,7    12,7  2015T2         NaN  \n",
       "30      164,4      25,6   8,9    13,0     NaN         NaN  \n",
       "\n",
       "[5 rows x 22 columns]"
      ]
     },
     "execution_count": 257,
     "metadata": {},
     "output_type": "execute_result"
    }
   ],
   "source": [
    "d.tail()"
   ]
  },
  {
   "cell_type": "code",
   "execution_count": null,
   "metadata": {
    "collapsed": false
   },
   "outputs": [],
   "source": []
  },
  {
   "cell_type": "code",
   "execution_count": 258,
   "metadata": {
    "collapsed": false
   },
   "outputs": [
    {
     "data": {
      "text/html": [
       "<div>\n",
       "<table border=\"1\" class=\"dataframe\">\n",
       "  <thead>\n",
       "    <tr style=\"text-align: right;\">\n",
       "      <th></th>\n",
       "      <th>Nacional</th>\n",
       "      <th>Andalucía</th>\n",
       "      <th>Aragón</th>\n",
       "      <th>Asturias, Principado de</th>\n",
       "      <th>Balears, Illes</th>\n",
       "      <th>Canarias</th>\n",
       "      <th>Cantabria</th>\n",
       "      <th>Castilla y León</th>\n",
       "      <th>Castilla - La Mancha</th>\n",
       "      <th>Cataluña</th>\n",
       "      <th>...</th>\n",
       "      <th>Galicia</th>\n",
       "      <th>Madrid, Comunidad de</th>\n",
       "      <th>Murcia, Región de</th>\n",
       "      <th>Navarra, Comunidad Foral de</th>\n",
       "      <th>País Vasco</th>\n",
       "      <th>Rioja, La</th>\n",
       "      <th>Ceuta</th>\n",
       "      <th>Melilla</th>\n",
       "      <th>Total</th>\n",
       "      <th>Unnamed: 21</th>\n",
       "    </tr>\n",
       "  </thead>\n",
       "  <tbody>\n",
       "    <tr>\n",
       "      <th>0</th>\n",
       "      <td>2008T1</td>\n",
       "      <td>NaN</td>\n",
       "      <td>NaN</td>\n",
       "      <td>NaN</td>\n",
       "      <td>NaN</td>\n",
       "      <td>NaN</td>\n",
       "      <td>NaN</td>\n",
       "      <td>NaN</td>\n",
       "      <td>NaN</td>\n",
       "      <td>NaN</td>\n",
       "      <td>...</td>\n",
       "      <td>NaN</td>\n",
       "      <td>NaN</td>\n",
       "      <td>NaN</td>\n",
       "      <td>NaN</td>\n",
       "      <td>NaN</td>\n",
       "      <td>NaN</td>\n",
       "      <td>NaN</td>\n",
       "      <td>NaN</td>\n",
       "      <td>NaN</td>\n",
       "      <td>NaN</td>\n",
       "    </tr>\n",
       "    <tr>\n",
       "      <th>1</th>\n",
       "      <td>2.190,5</td>\n",
       "      <td>561,7</td>\n",
       "      <td>40,7</td>\n",
       "      <td>42,0</td>\n",
       "      <td>60,0</td>\n",
       "      <td>147,2</td>\n",
       "      <td>18,2</td>\n",
       "      <td>97,3</td>\n",
       "      <td>92,1</td>\n",
       "      <td>293,4</td>\n",
       "      <td>...</td>\n",
       "      <td>108,3</td>\n",
       "      <td>249,5</td>\n",
       "      <td>66,5</td>\n",
       "      <td>19,5</td>\n",
       "      <td>61,9</td>\n",
       "      <td>10,6</td>\n",
       "      <td>5,3</td>\n",
       "      <td>6,9</td>\n",
       "      <td>2008T2</td>\n",
       "      <td>NaN</td>\n",
       "    </tr>\n",
       "    <tr>\n",
       "      <th>2</th>\n",
       "      <td>2.385,7</td>\n",
       "      <td>616,1</td>\n",
       "      <td>46,9</td>\n",
       "      <td>39,1</td>\n",
       "      <td>48,5</td>\n",
       "      <td>161,1</td>\n",
       "      <td>20,2</td>\n",
       "      <td>110,7</td>\n",
       "      <td>103,9</td>\n",
       "      <td>293,8</td>\n",
       "      <td>...</td>\n",
       "      <td>108,1</td>\n",
       "      <td>296,9</td>\n",
       "      <td>81,0</td>\n",
       "      <td>18,3</td>\n",
       "      <td>62,3</td>\n",
       "      <td>11,1</td>\n",
       "      <td>6,4</td>\n",
       "      <td>5,4</td>\n",
       "      <td>2008T3</td>\n",
       "      <td>NaN</td>\n",
       "    </tr>\n",
       "    <tr>\n",
       "      <th>3</th>\n",
       "      <td>2.600,7</td>\n",
       "      <td>701,7</td>\n",
       "      <td>43,3</td>\n",
       "      <td>38,6</td>\n",
       "      <td>55,3</td>\n",
       "      <td>176,6</td>\n",
       "      <td>18,1</td>\n",
       "      <td>113,5</td>\n",
       "      <td>111,3</td>\n",
       "      <td>346,1</td>\n",
       "      <td>...</td>\n",
       "      <td>110,3</td>\n",
       "      <td>286,0</td>\n",
       "      <td>98,4</td>\n",
       "      <td>23,2</td>\n",
       "      <td>70,5</td>\n",
       "      <td>13,4</td>\n",
       "      <td>5,9</td>\n",
       "      <td>7,0</td>\n",
       "      <td>2008T4</td>\n",
       "      <td>NaN</td>\n",
       "    </tr>\n",
       "    <tr>\n",
       "      <th>4</th>\n",
       "      <td>3.206,8</td>\n",
       "      <td>845,6</td>\n",
       "      <td>66,0</td>\n",
       "      <td>49,7</td>\n",
       "      <td>68,6</td>\n",
       "      <td>215,4</td>\n",
       "      <td>25,1</td>\n",
       "      <td>136,1</td>\n",
       "      <td>147,9</td>\n",
       "      <td>465,0</td>\n",
       "      <td>...</td>\n",
       "      <td>127,7</td>\n",
       "      <td>347,7</td>\n",
       "      <td>109,7</td>\n",
       "      <td>25,7</td>\n",
       "      <td>92,0</td>\n",
       "      <td>16,0</td>\n",
       "      <td>5,5</td>\n",
       "      <td>4,5</td>\n",
       "      <td>2009T1</td>\n",
       "      <td>NaN</td>\n",
       "    </tr>\n",
       "  </tbody>\n",
       "</table>\n",
       "<p>5 rows × 22 columns</p>\n",
       "</div>"
      ],
      "text/plain": [
       "  Nacional Andalucía Aragón Asturias, Principado de Balears, Illes Canarias  \\\n",
       "0   2008T1       NaN    NaN                     NaN            NaN      NaN   \n",
       "1  2.190,5     561,7   40,7                    42,0           60,0    147,2   \n",
       "2  2.385,7     616,1   46,9                    39,1           48,5    161,1   \n",
       "3  2.600,7     701,7   43,3                    38,6           55,3    176,6   \n",
       "4  3.206,8     845,6   66,0                    49,7           68,6    215,4   \n",
       "\n",
       "  Cantabria Castilla y León Castilla - La Mancha Cataluña     ...     Galicia  \\\n",
       "0       NaN             NaN                  NaN      NaN     ...         NaN   \n",
       "1      18,2            97,3                 92,1    293,4     ...       108,3   \n",
       "2      20,2           110,7                103,9    293,8     ...       108,1   \n",
       "3      18,1           113,5                111,3    346,1     ...       110,3   \n",
       "4      25,1           136,1                147,9    465,0     ...       127,7   \n",
       "\n",
       "  Madrid, Comunidad de Murcia, Región de Navarra, Comunidad Foral de  \\\n",
       "0                  NaN               NaN                         NaN   \n",
       "1                249,5              66,5                        19,5   \n",
       "2                296,9              81,0                        18,3   \n",
       "3                286,0              98,4                        23,2   \n",
       "4                347,7             109,7                        25,7   \n",
       "\n",
       "  País Vasco Rioja, La Ceuta Melilla   Total Unnamed: 21  \n",
       "0        NaN       NaN   NaN     NaN     NaN         NaN  \n",
       "1       61,9      10,6   5,3     6,9  2008T2         NaN  \n",
       "2       62,3      11,1   6,4     5,4  2008T3         NaN  \n",
       "3       70,5      13,4   5,9     7,0  2008T4         NaN  \n",
       "4       92,0      16,0   5,5     4,5  2009T1         NaN  \n",
       "\n",
       "[5 rows x 22 columns]"
      ]
     },
     "execution_count": 258,
     "metadata": {},
     "output_type": "execute_result"
    }
   ],
   "source": [
    "d.head()"
   ]
  },
  {
   "cell_type": "code",
   "execution_count": 259,
   "metadata": {
    "collapsed": false
   },
   "outputs": [
    {
     "data": {
      "text/html": [
       "<div>\n",
       "<table border=\"1\" class=\"dataframe\">\n",
       "  <thead>\n",
       "    <tr style=\"text-align: right;\">\n",
       "      <th></th>\n",
       "      <th>Nacional</th>\n",
       "      <th>Andalucía</th>\n",
       "      <th>Aragón</th>\n",
       "      <th>Asturias, Principado de</th>\n",
       "      <th>Balears, Illes</th>\n",
       "      <th>Canarias</th>\n",
       "      <th>Cantabria</th>\n",
       "      <th>Castilla y León</th>\n",
       "      <th>Castilla - La Mancha</th>\n",
       "      <th>Cataluña</th>\n",
       "      <th>...</th>\n",
       "      <th>Galicia</th>\n",
       "      <th>Madrid, Comunidad de</th>\n",
       "      <th>Murcia, Región de</th>\n",
       "      <th>Navarra, Comunidad Foral de</th>\n",
       "      <th>País Vasco</th>\n",
       "      <th>Rioja, La</th>\n",
       "      <th>Ceuta</th>\n",
       "      <th>Melilla</th>\n",
       "      <th>Total</th>\n",
       "      <th>Unnamed: 21</th>\n",
       "    </tr>\n",
       "  </thead>\n",
       "  <tbody>\n",
       "    <tr>\n",
       "      <th>29</th>\n",
       "      <td>5.444,6</td>\n",
       "      <td>1.359,1</td>\n",
       "      <td>119,7</td>\n",
       "      <td>87,2</td>\n",
       "      <td>130,7</td>\n",
       "      <td>343,5</td>\n",
       "      <td>51,5</td>\n",
       "      <td>233,7</td>\n",
       "      <td>284,5</td>\n",
       "      <td>758,0</td>\n",
       "      <td>...</td>\n",
       "      <td>275,7</td>\n",
       "      <td>602,8</td>\n",
       "      <td>186,9</td>\n",
       "      <td>47,9</td>\n",
       "      <td>171,2</td>\n",
       "      <td>27,1</td>\n",
       "      <td>11,7</td>\n",
       "      <td>12,7</td>\n",
       "      <td>2015T2</td>\n",
       "      <td>NaN</td>\n",
       "    </tr>\n",
       "    <tr>\n",
       "      <th>30</th>\n",
       "      <td>5.149,0</td>\n",
       "      <td>1.260,5</td>\n",
       "      <td>110,8</td>\n",
       "      <td>93,0</td>\n",
       "      <td>103,5</td>\n",
       "      <td>336,5</td>\n",
       "      <td>50,1</td>\n",
       "      <td>213,1</td>\n",
       "      <td>266,6</td>\n",
       "      <td>726,2</td>\n",
       "      <td>...</td>\n",
       "      <td>252,5</td>\n",
       "      <td>602,5</td>\n",
       "      <td>175,9</td>\n",
       "      <td>38,4</td>\n",
       "      <td>164,4</td>\n",
       "      <td>25,6</td>\n",
       "      <td>8,9</td>\n",
       "      <td>13,0</td>\n",
       "      <td>NaN</td>\n",
       "      <td>NaN</td>\n",
       "    </tr>\n",
       "  </tbody>\n",
       "</table>\n",
       "<p>2 rows × 22 columns</p>\n",
       "</div>"
      ],
      "text/plain": [
       "   Nacional Andalucía Aragón Asturias, Principado de Balears, Illes Canarias  \\\n",
       "29  5.444,6   1.359,1  119,7                    87,2          130,7    343,5   \n",
       "30  5.149,0   1.260,5  110,8                    93,0          103,5    336,5   \n",
       "\n",
       "   Cantabria Castilla y León Castilla - La Mancha Cataluña     ...      \\\n",
       "29      51,5           233,7                284,5    758,0     ...       \n",
       "30      50,1           213,1                266,6    726,2     ...       \n",
       "\n",
       "   Galicia Madrid, Comunidad de Murcia, Región de Navarra, Comunidad Foral de  \\\n",
       "29   275,7                602,8             186,9                        47,9   \n",
       "30   252,5                602,5             175,9                        38,4   \n",
       "\n",
       "   País Vasco Rioja, La Ceuta Melilla   Total Unnamed: 21  \n",
       "29      171,2      27,1  11,7    12,7  2015T2         NaN  \n",
       "30      164,4      25,6   8,9    13,0     NaN         NaN  \n",
       "\n",
       "[2 rows x 22 columns]"
      ]
     },
     "execution_count": 259,
     "metadata": {},
     "output_type": "execute_result"
    }
   ],
   "source": [
    "d.tail(2)"
   ]
  },
  {
   "cell_type": "code",
   "execution_count": 243,
   "metadata": {
    "collapsed": false
   },
   "outputs": [
    {
     "name": "stdout",
     "output_type": "stream",
     "text": [
      "py_U_1976-2004.xls\n"
     ]
    }
   ],
   "source": [
    "d.rename(columns={'Unnamed: 0': 'Tiempo'}).to_csv('py_'+tabla, index=False)\n",
    "print 'py_'+tabla"
   ]
  },
  {
   "cell_type": "code",
   "execution_count": 129,
   "metadata": {
    "collapsed": false
   },
   "outputs": [
    {
     "ename": "NameError",
     "evalue": "name 'tabla' is not defined",
     "output_type": "error",
     "traceback": [
      "\u001b[0;31m---------------------------------------------------------------------------\u001b[0m",
      "\u001b[0;31mNameError\u001b[0m                                 Traceback (most recent call last)",
      "\u001b[0;32m<ipython-input-129-fbbe08bb0b23>\u001b[0m in \u001b[0;36m<module>\u001b[0;34m()\u001b[0m\n\u001b[0;32m----> 1\u001b[0;31m \u001b[0mpd\u001b[0m\u001b[0;34m.\u001b[0m\u001b[0mread_csv\u001b[0m\u001b[0;34m(\u001b[0m\u001b[0;34m'py_'\u001b[0m\u001b[0;34m+\u001b[0m\u001b[0mtabla\u001b[0m\u001b[0;34m[\u001b[0m\u001b[0;34m:\u001b[0m\u001b[0;34m-\u001b[0m\u001b[0;36m3\u001b[0m\u001b[0;34m]\u001b[0m\u001b[0;34m,\u001b[0m \u001b[0mencoding\u001b[0m\u001b[0;34m=\u001b[0m\u001b[0;34m'latin'\u001b[0m\u001b[0;34m)\u001b[0m\u001b[0;34m\u001b[0m\u001b[0m\n\u001b[0m",
      "\u001b[0;31mNameError\u001b[0m: name 'tabla' is not defined"
     ]
    }
   ],
   "source": [
    "pd.read_csv('py_'+tabla[:-3], encoding='latin')"
   ]
  },
  {
   "cell_type": "code",
   "execution_count": 2,
   "metadata": {
    "collapsed": true
   },
   "outputs": [],
   "source": [
    "ls = !ls"
   ]
  },
  {
   "cell_type": "code",
   "execution_count": 281,
   "metadata": {
    "collapsed": false
   },
   "outputs": [],
   "source": [
    "for e in filter(lambda x: x.startswith('py_'),ls):\n",
    "    pd.read_csv(e[:-4]).ix[:,1:].to_csv(e[:-4]+'.csv', index=False)"
   ]
  },
  {
   "cell_type": "code",
   "execution_count": 282,
   "metadata": {
    "collapsed": true
   },
   "outputs": [],
   "source": [
    "!open ."
   ]
  },
  {
   "cell_type": "code",
   "execution_count": 278,
   "metadata": {
    "collapsed": false
   },
   "outputs": [
    {
     "data": {
      "text/plain": [
       "u'/Users/mmngreco/Documents/repos/okun_with_mpa'"
      ]
     },
     "execution_count": 278,
     "metadata": {},
     "output_type": "execute_result"
    }
   ],
   "source": [
    "pwd"
   ]
  },
  {
   "cell_type": "code",
   "execution_count": 3,
   "metadata": {
    "collapsed": false
   },
   "outputs": [
    {
     "data": {
      "text/plain": [
       "['clean_data.ipynb',\n",
       " 'originals',\n",
       " 'py_L_1976-2004',\n",
       " 'py_L_1976-2004.csv',\n",
       " 'py_L_2002-2015',\n",
       " 'py_L_2002-2015.csv',\n",
       " 'py_PIB_1980-955',\n",
       " 'py_PIB_1980-955.csv',\n",
       " 'py_PIB_1995-2004',\n",
       " 'py_PIB_1995-2004.csv',\n",
       " 'py_PIB_1995-2010',\n",
       " 'py_PIB_1995-2010.csv',\n",
       " 'py_PIB_2000-2014',\n",
       " 'py_PIB_2000-2014.csv',\n",
       " 'py_TU_1976-2004',\n",
       " 'py_TU_1976-2004.csv',\n",
       " 'py_U_1976-2004',\n",
       " 'py_U_1976-2004.csv']"
      ]
     },
     "execution_count": 3,
     "metadata": {},
     "output_type": "execute_result"
    }
   ],
   "source": [
    "ls"
   ]
  },
  {
   "cell_type": "code",
   "execution_count": 63,
   "metadata": {
    "collapsed": true
   },
   "outputs": [],
   "source": [
    "name_tables = list()\n",
    "for table in ls:\n",
    "    if not table.endswith('.csv'): continue\n",
    "    globals()[table] = pd.read_csv(table, encoding='latin')\n",
    "    name_tables.append(table)"
   ]
  },
  {
   "cell_type": "code",
   "execution_count": 64,
   "metadata": {
    "collapsed": false
   },
   "outputs": [
    {
     "data": {
      "text/plain": [
       "['py_L_1976-2004.csv',\n",
       " 'py_L_2002-2015.csv',\n",
       " 'py_PIB_1980-955.csv',\n",
       " 'py_PIB_1995-2004.csv',\n",
       " 'py_PIB_1995-2010.csv',\n",
       " 'py_PIB_2000-2014.csv',\n",
       " 'py_TU_1976-2004.csv',\n",
       " 'py_U_1976-2004.csv']"
      ]
     },
     "execution_count": 64,
     "metadata": {},
     "output_type": "execute_result"
    }
   ],
   "source": [
    "name_tables"
   ]
  },
  {
   "cell_type": "code",
   "execution_count": 65,
   "metadata": {
    "collapsed": false
   },
   "outputs": [],
   "source": [
    "cols_names = map(lambda x: pd.Series(globals()[x].columns), name_tables)"
   ]
  },
  {
   "cell_type": "code",
   "execution_count": 66,
   "metadata": {
    "collapsed": false
   },
   "outputs": [],
   "source": [
    "names_check = pd.concat(map(pd.Series, cols_names), \n",
    "                        axis=1).rename(columns=dict(zip(range(len(name_tables)), \n",
    "                                                        name_tables)))"
   ]
  },
  {
   "cell_type": "code",
   "execution_count": 121,
   "metadata": {
    "collapsed": false
   },
   "outputs": [],
   "source": [
    "\n",
    "names_check.T.to_excel('pair_table.xls')"
   ]
  },
  {
   "cell_type": "code",
   "execution_count": 122,
   "metadata": {
    "collapsed": true
   },
   "outputs": [],
   "source": [
    "!open ."
   ]
  },
  {
   "cell_type": "code",
   "execution_count": 128,
   "metadata": {
    "collapsed": false
   },
   "outputs": [
    {
     "name": "stdout",
     "output_type": "stream",
     "text": [
      "--------------------  ------  ---------  -----------  ------------------------  ------------------------  ---------------  ---------  ---------------  --------------------  --------------------  --------------------  --------------------  -----------  ---------------------  ---------------------  ----------------------------  ----------------------------  ------------  ---------------  ---------------  --------------  -----------  -----\n",
      "py_L_1976-2004.csv    Tiempo  Total      AndalucÃ­a   AragÃ³n                   Asturias (Principado de)  Balears (Illes)  Canarias   Cantabria        Castilla y LeÃ³n      Castilla - La Mancha  CataluÃ±a             Comunidad Valenciana  Extremadura  Galicia                Madrid (Comunidad de)  Murcia (RegiÃ³n de)           Navarra (Comunidad Foral de)  PaÃ­s Vasco   Rioja (La)       Ceuta y Melilla  nan             nan          nan\n",
      "py_L_2002-2015.csv    Tiempo  Nacional   Andalucâa  Aragân                  Asturias, Principado de   Balears, Illes   Canarias   Cantabria        Castilla y Leân     Castilla - La Mancha  Cataluâa            Comunitat Valenciana  Extremadura  Galicia                Madrid, Comunidad de   Murcia, Regiân de           Navarra, Comunidad Foral de   Paâs Vasco  Rioja, La        Ceuta            Melilla         nan          nan\n",
      "py_PIB_1980-955.csv   Tiempo  Andalucía  Aragón       Asturias (Principado de)  Baleares (Islas)          Canarias         Cantabria  Castilla y León  Castilla - La Mancha  Cataluña              Comunidad Valenciana  Extremadura           Galicia      Madrid (Comunidad de)  Murcia (Región de)     Navarra (Comunidad Foral de)  País Vasco                    Rioja (La)    Ceuta y Melilla  Extra-Regio      España          nan          nan\n",
      "py_PIB_1995-2004.csv  Tiempo  ANDALUCIA  ARAGON       ASTURIAS (Ppdo. de)       BALEARS (Illes)           CANARIAS         CANTABRIA  CASTILLA Y LEON  CASTILLA-LA MANCHA    CATALU?               COMUNIDAD VALENCIANA  EXTREMADURA           GALICIA      MADRID (Com. de)       MURCIA  (Regi? de)     NAVARRA (C. Foral de)         PAIS VASCO                    RIOJA (La)    CEUTA Y MELILLA  CEUTA            MELILLA         EXTRA-REGIO  ESPA?\n",
      "py_PIB_1995-2010.csv  Tiempo  Andalucía  Aragón       Asturias, Principado de   Balears, Illes            Canarias         Cantabria  Castilla y León  Castilla - La Mancha  Cataluña              Comunitat Valenciana  Extremadura           Galicia      Madrid, Comunidad de   Murcia, Región de      Navarra, Comunidad Foral de   País Vasco                    Rioja, La     Ceuta            Melilla          TOTAL NACIONAL  nan          nan\n",
      "py_PIB_2000-2014.csv  Tiempo  Andalucía  Aragón       Asturias; Principado de   Balears; Illes            Canarias         Cantabria  Castilla y León  Castilla - La Mancha  Cataluña              Comunitat Valenciana  Extremadura           Galicia      Madrid; Comunidad de   Murcia; Región de      Navarra; Comunidad Foral de   País Vasco                    Rioja; La     Ceuta            Melilla          TOTAL NACIONAL  nan          nan\n",
      "py_TU_1976-2004.csv   Tiempo  Total      Andalucía    Aragón                    Asturias (Principado de)  Balears (Illes)  Canarias   Cantabria        Castilla y León       Castilla - La Mancha  Cataluña              Comunidad Valenciana  Extremadura  Galicia                Madrid (Comunidad de)  Murcia (Región de)            Navarra (Comunidad Foral de)  País Vasco    Rioja (La)       Ceuta y Melilla  nan             nan          nan\n",
      "py_U_1976-2004.csv    Tiempo  Total      Andalucía    Aragón                    Asturias (Principado de)  Balears (Illes)  Canarias   Cantabria        Castilla y León       Castilla - La Mancha  Cataluña              Comunidad Valenciana  Extremadura  Galicia                Madrid (Comunidad de)  Murcia (Región de)            Navarra (Comunidad Foral de)  País Vasco    Rioja (La)       Ceuta y Melilla  nan             nan          nan\n",
      "--------------------  ------  ---------  -----------  ------------------------  ------------------------  ---------------  ---------  ---------------  --------------------  --------------------  --------------------  --------------------  -----------  ---------------------  ---------------------  ----------------------------  ----------------------------  ------------  ---------------  ---------------  --------------  -----------  -----\n"
     ]
    }
   ],
   "source": [
    "print tabulate(names_check.T)"
   ]
  },
  {
   "cell_type": "code",
   "execution_count": null,
   "metadata": {
    "collapsed": true
   },
   "outputs": [],
   "source": []
  }
 ],
 "metadata": {
  "kernelspec": {
   "display_name": "Python 2",
   "language": "python",
   "name": "python2"
  },
  "language_info": {
   "codemirror_mode": {
    "name": "ipython",
    "version": 2
   },
   "file_extension": ".py",
   "mimetype": "text/x-python",
   "name": "python",
   "nbconvert_exporter": "python",
   "pygments_lexer": "ipython2",
   "version": "2.7.10"
  }
 },
 "nbformat": 4,
 "nbformat_minor": 0
}
